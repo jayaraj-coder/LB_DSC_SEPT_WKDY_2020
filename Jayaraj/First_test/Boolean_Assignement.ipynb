{
 "cells": [
  {
   "cell_type": "code",
   "execution_count": 5,
   "metadata": {
    "colab": {},
    "colab_type": "code",
    "id": "7JIFn6BP4M0R"
   },
   "outputs": [
    {
     "name": "stdout",
     "output_type": "stream",
     "text": [
      "True <class 'bool'>\n",
      "140733760333648\n"
     ]
    }
   ],
   "source": [
    "#Declare a boolean value and store it in a variable. \n",
    "a = True\n",
    "\n",
    "#Check the type and print the id of the same.\n",
    "\n",
    "print(a, type(a))\n",
    "print (id (a))\n"
   ]
  },
  {
   "cell_type": "code",
   "execution_count": 4,
   "metadata": {
    "colab": {},
    "colab_type": "code",
    "id": "o9bjjhN64kAP"
   },
   "outputs": [
    {
     "name": "stdout",
     "output_type": "stream",
     "text": [
      "140721471154000\n",
      "140721471154000\n"
     ]
    }
   ],
   "source": [
    "#Take one boolean value between 0 - 256.\n",
    "#Assign it to two different variables.\n",
    "a = bool(12)\n",
    "b = bool(12)\n",
    "\n",
    "\n",
    "#Check the id of both the variables. It should come same. Check why?\n",
    "print (id (a))\n",
    "print (id (b))\n",
    "\n",
    "\n",
    "\n",
    "\n"
   ]
  },
  {
   "cell_type": "code",
   "execution_count": 15,
   "metadata": {
    "colab": {},
    "colab_type": "code",
    "id": "yr4ETGSf4l5y"
   },
   "outputs": [
    {
     "name": "stdout",
     "output_type": "stream",
     "text": [
      "sum is: 2\n",
      "difference is: 0\n",
      "product is: 1\n",
      "division is: 1.0\n",
      "remainder is: 0\n",
      "quotient is: 1\n",
      "power is: 1\n"
     ]
    }
   ],
   "source": [
    "#Arithmatic Operations on boolean data\n",
    "#Take two different boolean values.\n",
    "#Store them in two different variables.\n",
    "a = bool(18)\n",
    "b = bool(35)\n",
    "\n",
    "\n",
    "#Do below operations on them:-\n",
    "    #Find sum of both values\n",
    "sum = (a+b)     \n",
    "print (\"sum is:\", sum)  \n",
    "\n",
    "    #Find differce between them\n",
    "difference = (a-b)    \n",
    "print (\"difference is:\", difference)\n",
    "\n",
    "    #Find the product of both.\n",
    "product = (a*b)    \n",
    "print (\"product is:\", product)\n",
    "\n",
    "    #Find value after dividing first value with second value    \n",
    "division = (a/b)    \n",
    "print (\"division is:\", division) \n",
    "    \n",
    "    #Find the remainder after dividing first value with second value\n",
    "remainder = (a%b)    \n",
    "print (\"remainder is:\", remainder)    \n",
    "\n",
    "    \n",
    "    #Find the quotient after dividing first value with second value    \n",
    "quotient = (a//b)    \n",
    "print (\"quotient is:\", quotient)\n",
    "    \n",
    "    #Find the result of first value to the power of second value.  \n",
    "power = (a**b)    \n",
    "print (\"power is:\", power)\n",
    "    "
   ]
  },
  {
   "cell_type": "code",
   "execution_count": 2,
   "metadata": {
    "colab": {},
    "colab_type": "code",
    "id": "xG4mX84E4n2O"
   },
   "outputs": [
    {
     "name": "stdout",
     "output_type": "stream",
     "text": [
      "Enter the first value: True\n",
      "Enter the second value: False\n",
      "Greater than is: True\n",
      "Less than is: True\n",
      "Greater than or equal is: True\n",
      "Less than or equal to: True\n",
      "False\n",
      "False\n",
      "True\n",
      "True\n"
     ]
    }
   ],
   "source": [
    "#Comparison Operators on boolean values\n",
    "#Take two different boolean values.\n",
    "#Store them in two different variables.\n",
    "a = bool(input(\"Enter the first value: \"))\n",
    "b = bool(input(\"Enter the second value: \"))\n",
    "\n",
    "\n",
    "#Do below operations on them:-\n",
    "    #Compare these two values with below operator:-\n",
    "        #Greater than, '>'\n",
    "    \n",
    "print(\"Greater than is:\" , a if a>b else b)\n",
    "\n",
    "        #less than, '<'\n",
    "print(\"Less than is:\" , a if a<b else b)   \n",
    "\n",
    "        #Greater than or equal to, '>='\n",
    "print(\"Greater than or equal is:\", a if a>=b else b)\n",
    "\n",
    "        #Less than or equal to, '<='    \n",
    "\n",
    "print(\"Less than or equal to:\", a if a<=b else b)\n",
    "#Observe their output(return type should be boolean)\n",
    "print(a>b)\n",
    "print(a<b)\n",
    "print(a>=b)\n",
    "print(a<=b)\n"
   ]
  },
  {
   "cell_type": "code",
   "execution_count": 5,
   "metadata": {
    "colab": {},
    "colab_type": "code",
    "id": "TUIo2Z9V4qBJ"
   },
   "outputs": [
    {
     "name": "stdout",
     "output_type": "stream",
     "text": [
      "Enter the first value: True\n",
      "Enter the second value: False\n",
      "True\n",
      "False\n",
      "140721471154000\n",
      "140721471154000\n"
     ]
    }
   ],
   "source": [
    "#Equality Operator\n",
    "#Take two different boolean values.\n",
    "#Store them in two different variables.\n",
    "\n",
    "\n",
    "\n",
    "#Equuate them using equality operator (==, !=)\n",
    "x = bool(input(\"Enter the first value: \"))\n",
    "y = bool(input(\"Enter the second value: \"))\n",
    "\n",
    "\n",
    "#Observe the output(return type should be boolean)\n",
    "\n",
    "print(x == y)  \n",
    "print(x != y)\n",
    "\n",
    "print (id (x))\n",
    "print (id (y))\n",
    "\n",
    "\n",
    "\n",
    "\n"
   ]
  },
  {
   "cell_type": "code",
   "execution_count": 18,
   "metadata": {
    "colab": {},
    "colab_type": "code",
    "id": "XukEq5E44rxv"
   },
   "outputs": [
    {
     "name": "stdout",
     "output_type": "stream",
     "text": [
      "True\n",
      "False\n",
      "False\n",
      "False\n",
      "True\n",
      "True\n",
      "True\n",
      "False\n",
      "False\n",
      "True\n"
     ]
    }
   ],
   "source": [
    "#Logical operators\n",
    "#Observe the output of below code\n",
    "#Cross check the output manually\n",
    "\n",
    "print(True and True)        #----------------------------------------->Output is True\n",
    "print(False and True)        #----------------------------------------->Output is False\n",
    "print(True and False)        #----------------------------------------->Output is False\n",
    "print(False and False)       #----------------------------------------->Output is False\n",
    "\n",
    "print(True or True)          #----------------------------------------->Output is True\n",
    "print(False or True)         #----------------------------------------->Output is True\n",
    "print(True or False)         #----------------------------------------->Output is True\n",
    "print(False or False)        #----------------------------------------->Output is False\n",
    "\n",
    "print(not True)              #----------------------------------------->Output is False\n",
    "print(not False)             #----------------------------------------->Output is True"
   ]
  },
  {
   "cell_type": "code",
   "execution_count": 21,
   "metadata": {
    "colab": {},
    "colab_type": "code",
    "id": "02jPgt094vK-"
   },
   "outputs": [
    {
     "name": "stdout",
     "output_type": "stream",
     "text": [
      "True\n",
      "True\n",
      "True\n",
      "-2\n",
      "4\n",
      "0\n"
     ]
    }
   ],
   "source": [
    "#Bitwise Operators\n",
    "#Do below operations on the values provided below:-\n",
    "    #Bitwise and(&) -----------------------------------------> True, True    -------> Output is True\n",
    "print(True & True)    \n",
    "\n",
    "\n",
    "    #Bitwise or(|)  -----------------------------------------> True, False   -------> Output is True\n",
    "print(True | False)\n",
    "\n",
    "\n",
    "    #Bitwise(^)     -----------------------------------------> True, False   -------> Output is True\n",
    "print(True ^ False)\n",
    "  \n",
    "\n",
    "    #Bitwise negation(~) ------------------------------------> True          -------> Output is -2\n",
    "print(~ True)\n",
    "\n",
    "    #Bitwise left shift  ------------------------------------> True,2        -------> Output is 4\n",
    "#print(True << 2)\n",
    "\n",
    "#print(bin(True)) = 0b1\n",
    "#shift 1 by 2 bits towards LHS\n",
    "#print(1 << 2)\n",
    "\n",
    "# Step1 - convert True into binary equivalent\n",
    "# True = 1\n",
    "\n",
    "# Step2 - Write the binary equivalent in 32 bit representation\n",
    "# True = 0000000000000000000000000000001\n",
    "\n",
    "# step3 - remove 2 bits from LHS and add 2 0's in the right hand side\n",
    "# True = 0000000000000000000000000000100\n",
    "\n",
    "# Step4 - use print(0bresultant bits)\n",
    "print(0b0000000000000000000000000000100)\n",
    "\n",
    "\n",
    "    #Bitwise right shift ------------------------------------> True,2        -------> Output is 0\n",
    "#print(True >> 2)\n",
    "#print(bin(True)) = 0b1\n",
    "#shift 1 by 2 bits towards RHS\n",
    "\n",
    "# Step1 - convert True into binary equivalent\n",
    "# True = 1\n",
    "\n",
    "# Step2 - Write the binary equivalent in 32 bit representation\n",
    "# True = 0000000000000000000000000000001\n",
    "\n",
    "# step3 - remove 2 bits from RHS and add 2 0's in the left hand side\n",
    "# True = 0000000000000000000000000000000\n",
    "\n",
    "# Step4 - use print(0bresultant bits)\n",
    "print(0b0000000000000000000000000000000)\n",
    "\n",
    "\n",
    "#Cross check the output manually\n"
   ]
  },
  {
   "cell_type": "code",
   "execution_count": 28,
   "metadata": {
    "colab": {},
    "colab_type": "code",
    "id": "cy5i7sWz4v_c"
   },
   "outputs": [
    {
     "name": "stdout",
     "output_type": "stream",
     "text": [
      "True\n",
      "False\n",
      "True\n",
      "False\n"
     ]
    }
   ],
   "source": [
    "#What is the output of expression inside print statement. Cross check before running the program.\n",
    "a = True\n",
    "b = True\n",
    "print(a is b)          #True or False?   \n",
    "print(a is not b)      #True or False?\n",
    "#print(id(a))  = 140721471154000\n",
    "#print(id(b))  = 140721471154000\n",
    "#print(a is b) - ids are same result will be true\n",
    "# ids of a & b are same result is true so a is not b operation is not true so result will be false \n",
    "\n",
    "a = False\n",
    "b = False\n",
    "print(a is b)          #True or False?\n",
    "#print(id(a)) = 140721471154032\n",
    "#print(id(b)) = 140721471154032\n",
    "# print(a is b) - ids are same result will be true\n",
    "\n",
    "\n",
    "print(a is not b)      #True or False?\n",
    "#ids of a & b are same result is true so a is not b operation is not true so result will be false"
   ]
  },
  {
   "cell_type": "code",
   "execution_count": 17,
   "metadata": {
    "colab": {},
    "colab_type": "code",
    "id": "AOcPQi8544M-"
   },
   "outputs": [
    {
     "name": "stdout",
     "output_type": "stream",
     "text": [
      "True\n",
      "True\n",
      "True\n",
      "True\n",
      "True\n"
     ]
    }
   ],
   "source": [
    "#Membership operation\n",
    "#in, not in are two membership operators and it returns boolean value\n",
    "\n",
    "print(True in [10,10.20,10+20j,'Python', True])\n",
    "print(False in (10,10.20,10+20j,'Python', False))\n",
    "print(True in {1,2,3, True})\n",
    "print(True in {True:100, False:200, True:300})\n",
    "print(False in {True:100, False:200, True:300})"
   ]
  },
  {
   "cell_type": "code",
   "execution_count": null,
   "metadata": {
    "colab": {},
    "colab_type": "code",
    "id": "MPa1Lpco46Ja"
   },
   "outputs": [],
   "source": []
  }
 ],
 "metadata": {
  "colab": {
   "name": "Boolean_Assignement.ipynb",
   "provenance": []
  },
  "kernelspec": {
   "display_name": "Python 3",
   "language": "python",
   "name": "python3"
  },
  "language_info": {
   "codemirror_mode": {
    "name": "ipython",
    "version": 3
   },
   "file_extension": ".py",
   "mimetype": "text/x-python",
   "name": "python",
   "nbconvert_exporter": "python",
   "pygments_lexer": "ipython3",
   "version": "3.8.3"
  }
 },
 "nbformat": 4,
 "nbformat_minor": 1
}
