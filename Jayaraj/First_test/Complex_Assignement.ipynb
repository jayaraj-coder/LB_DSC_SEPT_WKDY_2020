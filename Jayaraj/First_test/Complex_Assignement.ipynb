{
 "cells": [
  {
   "cell_type": "code",
   "execution_count": 5,
   "metadata": {
    "colab": {},
    "colab_type": "code",
    "id": "JoMbQLjK3uHZ"
   },
   "outputs": [
    {
     "name": "stdout",
     "output_type": "stream",
     "text": [
      "(12+24j) <class 'complex'>\n",
      "2502843102512\n"
     ]
    }
   ],
   "source": [
    "#Declare a complex number and store it in a variable. \n",
    "a = complex(12 + 24j)\n",
    "\n",
    "#Check the type and print the id of the same.\n",
    "print(a, type(a))\n",
    "print (id (a))"
   ]
  },
  {
   "cell_type": "code",
   "execution_count": 26,
   "metadata": {
    "colab": {},
    "colab_type": "code",
    "id": "6N6Ee4BU33jk"
   },
   "outputs": [
    {
     "name": "stdout",
     "output_type": "stream",
     "text": [
      "sum is: (69+28j)\n",
      "difference is: (21-4j)\n",
      "product is: (888+1008j)\n",
      "division is: (1.528846153846154-0.5192307692307693j)\n"
     ]
    }
   ],
   "source": [
    "#Arithmatic Operations on complex number\n",
    "#Take two different complex number.\n",
    "#Store them in two different variables.\n",
    "#Do below operations on them:-\n",
    "    #Find sum of both numbers\n",
    "    #Find differce between them\n",
    "    #Find the product of both numbers.\n",
    "    #Find value after dividing first num with second number\n",
    "    #Find the result of first num to the power of second number.\n",
    "a = 45+12j\n",
    "b = 24+16j    \n",
    "sum = (a+b)    \n",
    "print (\"sum is:\", sum)    \n",
    "difference = (a-b)    \n",
    "print (\"difference is:\", difference)    \n",
    "product = (a*b)    \n",
    "print (\"product is:\", product)    \n",
    "division = (a/b)    \n",
    "print (\"division is:\", division)    \n",
    "#remainder = (a%b)    \n",
    "#print (\"remainder is:\", remainder)    \n",
    "#quotient = (a//b)    \n",
    "#print (\"quotient is:\", quotient)\n",
    "#power = (a**b)    \n",
    "#print (\"power is:\", power)\n",
    "\n"
   ]
  },
  {
   "cell_type": "code",
   "execution_count": null,
   "metadata": {
    "colab": {},
    "colab_type": "code",
    "id": "xhkdg7LD352y"
   },
   "outputs": [],
   "source": [
    "#Comparison Operation not applicable between instance of complex values\n",
    "#Object reusability concept is not applicable on complex numebr\n",
    "\n"
   ]
  },
  {
   "cell_type": "code",
   "execution_count": 7,
   "metadata": {
    "colab": {},
    "colab_type": "code",
    "id": "4lzPH2sb38KM"
   },
   "outputs": [
    {
     "name": "stdout",
     "output_type": "stream",
     "text": [
      "Enter the first value: 5+8j\n",
      "Enter the second value: 13+7j\n",
      "False\n",
      "True\n"
     ]
    }
   ],
   "source": [
    "#Equality Operator\n",
    "#Take two different complex numbers.\n",
    "#Store them in two different variables.\n",
    "#Equuate them using equality operator (==, !=)\n",
    "#Observe the output(return type should be boolean)\n",
    "\n",
    "x = (input(\"Enter the first value: \"))\n",
    "y = (input(\"Enter the second value: \"))\n",
    "print(x == y)\n",
    "print(x != y)\n"
   ]
  },
  {
   "cell_type": "code",
   "execution_count": 12,
   "metadata": {
    "colab": {},
    "colab_type": "code",
    "id": "EDEl19UD3_tr"
   },
   "outputs": [
    {
     "name": "stdout",
     "output_type": "stream",
     "text": [
      "(20+30j)\n",
      "0j\n",
      "0j\n",
      "0j\n",
      "(10+20j)\n",
      "(20+30j)\n",
      "(20+30j)\n",
      "0j\n",
      "False\n",
      "True\n"
     ]
    }
   ],
   "source": [
    "#Logical operators\n",
    "#Observe the output of below code\n",
    "#Cross check the output manually\n",
    "\n",
    "print(10+20j and 20+30j)    #20+30j    #----------------------------------------->Output is 20+30j\n",
    "print(0+0j and 20+30j)      #0+0j    #----------------------------------------->Output is 0j\n",
    "print(20+30j and 0+0j)      #0+0j   #----------------------------------------->Output is 0j\n",
    "print(0+0j and 0+0j)        #0+0j   #----------------------------------------->Output is 0j\n",
    "\n",
    "print(10+20j or 20+30j)     #10+20j   #----------------------------------------->Output is 10+20j\n",
    "print(0+0j or 20+30j)       #20+30j   #----------------------------------------->Output is 20+30j\n",
    "print(20+30j or 0+0j)       #20+30j  #----------------------------------------->Output is 20+30j\n",
    "print(0+0j or 0+0j)         #0+0j   #----------------------------------------->Output is 0j\n",
    "\n",
    "print(not 10+20j)           #False   #----------------------------------------->Output is False\n",
    "print(not 0+0j)             #True   #----------------------------------------->Output is True\n",
    "\n",
    "#(20+30j) - First and second value is true so result will be second value \n",
    "#0j       - First value is false so result will be first value\n",
    "#0j       - First value is true but second value is false so result will be second value \n",
    "#0j       - First value is false so result will be first value\n",
    "\n",
    "#(10+20j) - First and second value is true so result will be first value\n",
    "#(20+30j) - First value is false but second value is true so result will be second value \n",
    "#(20+30j) - First value is true so result will be first value\n",
    "#0j       - First and second value is false so result will be second value\n",
    "\n",
    "#False    - not is false and value is true so result will be false {false true = false}\n",
    "#True     - not is false and value is false so result will be true {not false = true}"
   ]
  },
  {
   "cell_type": "code",
   "execution_count": 22,
   "metadata": {
    "colab": {},
    "colab_type": "code",
    "id": "4ifueKbP4Br1"
   },
   "outputs": [
    {
     "name": "stdout",
     "output_type": "stream",
     "text": [
      "False\n",
      "True\n",
      "2502859367152\n",
      "2502859366896\n"
     ]
    }
   ],
   "source": [
    "#What is the output of expression inside print statement. Cross check before running the program.\n",
    "a = 10+20j\n",
    "b = 10+20j\n",
    "print(a is b)       #False   #True or False?  - False because ids of a & b are different\n",
    "print(a is not b)   #True   #True or False?   - True because false of not is true \n",
    "\n",
    "print(id(a))\n",
    "print(id(b))"
   ]
  },
  {
   "cell_type": "code",
   "execution_count": 24,
   "metadata": {
    "colab": {},
    "colab_type": "code",
    "id": "TxMbr5jQ4Dwl"
   },
   "outputs": [
    {
     "name": "stdout",
     "output_type": "stream",
     "text": [
      "True\n",
      "True\n",
      "True\n",
      "True\n",
      "True\n",
      "True\n"
     ]
    }
   ],
   "source": [
    "#Membership operation\n",
    "#in, not in are two membership operators and it returns boolean value\n",
    "\n",
    "print('2.7' in 'Python2.7.8')                      #True  -  2.7 is there in 'Python2.7.8')\n",
    "print(10+20j in [10,10.20,10+20j,'Python'])        #True  -  10+20j is there in 10,10.20,10+20j,'Python'\n",
    "print(10+20j in (10,10.20,10+20j,'Python'))        #True  -  10+20j is there in 10,10.20,10+20j,'Python'\n",
    "print(30+40j in {1,20.30,30+40j})                  #True  -  30+40j is there in 1,20.30,30+40j\n",
    "print(30+40j in {1:100, 2.3:200, 30+40j:300})      #True  -  30+40j is there  1:100, 2.3:200, 30+40j:300 \n",
    "print(10 in range(20))                             #True  -  10 is there  range(20) "
   ]
  },
  {
   "cell_type": "code",
   "execution_count": null,
   "metadata": {},
   "outputs": [],
   "source": []
  }
 ],
 "metadata": {
  "colab": {
   "name": "Complex_Assignement.ipynb",
   "provenance": []
  },
  "kernelspec": {
   "display_name": "Python 3",
   "language": "python",
   "name": "python3"
  },
  "language_info": {
   "codemirror_mode": {
    "name": "ipython",
    "version": 3
   },
   "file_extension": ".py",
   "mimetype": "text/x-python",
   "name": "python",
   "nbconvert_exporter": "python",
   "pygments_lexer": "ipython3",
   "version": "3.8.3"
  }
 },
 "nbformat": 4,
 "nbformat_minor": 1
}
