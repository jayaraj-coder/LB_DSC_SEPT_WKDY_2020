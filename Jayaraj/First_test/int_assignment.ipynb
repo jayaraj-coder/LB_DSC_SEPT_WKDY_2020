{
 "cells": [
  {
   "cell_type": "code",
   "execution_count": 13,
   "metadata": {
    "colab": {},
    "colab_type": "code",
    "id": "8A5Jw5NR1iEI"
   },
   "outputs": [
    {
     "name": "stdout",
     "output_type": "stream",
     "text": [
      "25 <class 'int'>\n",
      "140733760616992\n"
     ]
    }
   ],
   "source": [
    "#Declare an int value and store it in a variable. \n",
    "a = int(25)\n",
    "\n",
    "\n",
    "#Check the type and print the id of the same.\n",
    "print (a,type (a))\n",
    "print (id (a))"
   ]
  },
  {
   "cell_type": "code",
   "execution_count": 6,
   "metadata": {
    "colab": {},
    "colab_type": "code",
    "id": "0YU8LFTn1rAX"
   },
   "outputs": [
    {
     "name": "stdout",
     "output_type": "stream",
     "text": [
      "140733848177280\n",
      "2602648597712\n",
      "2602648597136\n"
     ]
    }
   ],
   "source": [
    "#Take one int value between 0 - 256.\n",
    "#Assign it to two different variables.\n",
    "#Check the id of both the variables. It should come same. Check why?\n",
    "a = 12\n",
    "a = 156\n",
    "print (id (a))\n",
    "\n",
    "#Take one int value either less than -5 or greater than 256.\n",
    "#Assign it to two different variables.\n",
    "#Check the id of both the variables. It should come different.Check why?\n",
    "\n",
    "a = 501\n",
    "b = -12\n",
    "print (id (a))\n",
    "print (id (b))"
   ]
  },
  {
   "cell_type": "code",
   "execution_count": 10,
   "metadata": {
    "colab": {},
    "colab_type": "code",
    "id": "YzEIG0ZZ1tSK"
   },
   "outputs": [
    {
     "name": "stdout",
     "output_type": "stream",
     "text": [
      "sum is: 37\n",
      "difference is: 13\n",
      "product is: 300\n",
      "division is: 2.0833333333333335\n",
      "remainder is: 1\n",
      "quotient is: 2\n",
      "power is: 59604644775390625\n"
     ]
    }
   ],
   "source": [
    "#Arithmatic Operations on integers\n",
    "#Take two different intger values.\n",
    "#Store them in two different variables.\n",
    "\n",
    "\n",
    "#Do below operations on them:-\n",
    "    #Find sum of both numbers\n",
    "    \n",
    "    \n",
    "    #Find differce between them\n",
    "    #Find the product of both numbers.\n",
    "    #Find value after dividing first num with second number\n",
    "    #Find the remainder after dividing first number with second number\n",
    "    #Find the quotient after dividing first number with second number\n",
    "    #Find the result of first num to the power of second number.\n",
    "    \n",
    "a = 25\n",
    "b = 12    \n",
    "sum = (a+b)    \n",
    "print (\"sum is:\", sum)    \n",
    "difference = (a-b)    \n",
    "print (\"difference is:\", difference)    \n",
    "product = (a*b)    \n",
    "print (\"product is:\", product)    \n",
    "division = (a/b)    \n",
    "print (\"division is:\", division)    \n",
    "remainder = (a%b)    \n",
    "print (\"remainder is:\", remainder)    \n",
    "quotient = (a//b)    \n",
    "print (\"quotient is:\", quotient)\n",
    "power = (a**b)    \n",
    "print (\"power is:\", power)\n",
    "\n"
   ]
  },
  {
   "cell_type": "code",
   "execution_count": 11,
   "metadata": {
    "colab": {},
    "colab_type": "code",
    "id": "GGM7CdzA1wGn"
   },
   "outputs": [
    {
     "name": "stdout",
     "output_type": "stream",
     "text": [
      "Greater than is: 45\n",
      "Smaller than is: 35\n",
      "Greater than or equal is: 45\n",
      "Less than or equal to: 35\n",
      "False\n",
      "True\n",
      "False\n",
      "True\n",
      "True\n",
      "True\n"
     ]
    }
   ],
   "source": [
    "#Comparison Operators on integers\n",
    "#Take two different intger values.\n",
    "#Store them in two different variables.\n",
    "#Do below operations on them:-\n",
    "    #Compare se two numbers with below operator:-\n",
    "        #Greater than, '>'\n",
    "        #Smaller than, '<'\n",
    "        #Greater than or equal to, '>='\n",
    "        #Less than or equal to, '<='\n",
    "#Observe their output(return type should be boolean)\n",
    "\n",
    "a = 35\n",
    "b = 45\n",
    "print(\"Greater than is:\" , a if a>b else b)\n",
    "print(\"Smaller than is:\" , a if a<b else b)\n",
    "print(\"Greater than or equal is:\", a if a>=b else b)\n",
    "print(\"Less than or equal to:\", a if a<=b else b)\n",
    "print(a>b)\n",
    "print(a<b)\n",
    "print(a>=b)\n",
    "print(a<=b)"
   ]
  },
  {
   "cell_type": "code",
   "execution_count": 12,
   "metadata": {
    "colab": {},
    "colab_type": "code",
    "id": "9x904sUE1y9t"
   },
   "outputs": [
    {
     "name": "stdout",
     "output_type": "stream",
     "text": [
      "Enter the first value: 250\n",
      "Enter the second value: 450\n",
      "False\n",
      "True\n"
     ]
    }
   ],
   "source": [
    "#Equality Operator\n",
    "#Take two different intger values.\n",
    "#Store them in two different variables.\n",
    "#Equuate them using equality operator (==, !=)\n",
    "#Observe the output(return type should be boolean)\n",
    "\n",
    "x = int(input(\"Enter the first value: \"))\n",
    "y = int(input(\"Enter the second value: \"))\n",
    "print(x == y)\n",
    "print(x != y)\n",
    "\n"
   ]
  },
  {
   "cell_type": "code",
   "execution_count": 13,
   "metadata": {
    "colab": {},
    "colab_type": "code",
    "id": "JmQFHUwc11S-"
   },
   "outputs": [
    {
     "name": "stdout",
     "output_type": "stream",
     "text": [
      "20\n",
      "0\n",
      "0\n",
      "0\n",
      "10\n",
      "20\n",
      "20\n",
      "0\n",
      "False\n",
      "True\n"
     ]
    }
   ],
   "source": [
    "#Logical operators\n",
    "#Observe the output of below code\n",
    "#Cross check the output manually\n",
    "\n",
    "print(10 and 20)       #----------------------------------------->Output is 20 First and second value is true so result will be second value \n",
    "print(0 and 20)        #----------------------------------------->Output is 0  First value is false so result will be first value\n",
    "print(20 and 0)        #----------------------------------------->Output is 0  First value is true but second value is false so result will be second value \n",
    "print(0 and 0)         #----------------------------------------->Output is 0  First value is false so result will be first value\n",
    "\n",
    "print(10 or 20)        #----------------------------------------->Output is 10- First and second value is true so result will be first value\n",
    "print(0 or 20)         #----------------------------------------->Output is 20- First value is false but second value is true so result will be second value\n",
    "print(20 or 0)         #----------------------------------------->Output is 20- First value is true so result will be first value\n",
    "print(0 or 0)          #----------------------------------------->Output is 0 - First and second value is false so result will be second value\n",
    "\n",
    "print(not 10)          #----------------------------------------->Output is False - not is false and value is true so result will be false {false true = false}\n",
    "print(not 0)           #----------------------------------------->Output is True - not is false and value is false so result will be true {not false = true}"
   ]
  },
  {
   "cell_type": "code",
   "execution_count": 9,
   "metadata": {
    "colab": {},
    "colab_type": "code",
    "id": "-0tvoulX14Hi"
   },
   "outputs": [
    {
     "name": "stdout",
     "output_type": "stream",
     "text": [
      "0\n",
      "30\n",
      "30\n",
      "-11\n",
      "40\n",
      "2\n"
     ]
    }
   ],
   "source": [
    "#Bitwise Operators\n",
    "#Do below operations on the values provided below:-\n",
    "    #Bitwise and(&) -----------------------------------------> 10, 20   -------> Output is 0\n",
    "    #Bitwise or(|)  -----------------------------------------> 10, 20   -------> Output is 30\n",
    "    #Bitwise(^)     -----------------------------------------> 10, 20   -------> Output is 30\n",
    "    #Bitwise negation(~) ------------------------------------> 10       -------> Output is -11\n",
    "    #Bitwise left shift  ------------------------------------> 10,2     -------> Output is 40\n",
    "    #Bitwise right shift ------------------------------------> 10,2     -------> Output is 2\n",
    "#Cross check the output manually\n",
    "\n",
    "print (10 & 20)\n",
    "#print(bin(10)) - 0b1010   - 01010\n",
    "#print(bin(20)) - 0b10100  - 10100\n",
    "#                ---------- =00000 \n",
    "\n",
    "#print (10 | 20)\n",
    "#print(bin(10)) - 0b1010   - 01010\n",
    "#print(bin(20)) - 0b10100  - 10100\n",
    "#                ---------- =11110\n",
    "print(0b11110)\n",
    "\n",
    "print (10 ^ 20)\n",
    "#print(bin(10)) -  0b1010   - 01010\n",
    "#print(bin(20)) - 0b10100  -  10100\n",
    "#                ---------- = 11110\n",
    "\n",
    "print (~10)\n",
    "#~ -bitwise negation - ~num = -(num+1) = -(10+1) = -(11) = -11\n",
    "\n",
    "#print (10<<2)\n",
    "#shift 10 by 2 bits towards Left Hand Side\n",
    "\n",
    "# Step1 - convert 10 into bonary equivalent\n",
    "# 10 = 0b1010\n",
    "\n",
    "# Step2 - Write the binary equivalent in 32 bit representation\n",
    "# 10 = 00000000000000000000000000001010\n",
    "\n",
    "# step3 - remove 2 bits from LHS and add 2 0's in the right hand side\n",
    "# 230 = 00000000000000000000000000101000\n",
    "\n",
    "# Step4 - use print(0bresultant bits)\n",
    "print(0b00000000000000000000000000101000)\n",
    "\n",
    "#print (10>>2)\n",
    "\n",
    "# shift 10 by 2 bits towards RHS\n",
    "# Step1 - convert 10 into bonary equivalent\n",
    "# 10 = 1010\n",
    "\n",
    "# Step2 - Write the binary equivalent in 32 bit representation\n",
    "# 10 = 00000000000000000000000000001010\n",
    "\n",
    "# step3 - remove 2 bits from RHS and add 2 0's in the left hand side\n",
    "# 230 = 00000000000000000000000000000010\n",
    "\n",
    "# Step4 - use print(0bresultant bits)\n",
    "print(0b00000000000000000000000000000010)\n"
   ]
  },
  {
   "cell_type": "code",
   "execution_count": 14,
   "metadata": {
    "colab": {},
    "colab_type": "code",
    "id": "YCcx-Qx016hg"
   },
   "outputs": [
    {
     "name": "stdout",
     "output_type": "stream",
     "text": [
      "True\n",
      "False\n",
      "False\n",
      "True\n"
     ]
    }
   ],
   "source": [
    "#What is the output of expression inside print statement. Cross check before running the program.\n",
    "a = 10\n",
    "b = 10\n",
    "print(a is b)          #True or False?\n",
    "#print(id(a)) = 140721471436864\n",
    "#print(id(b)) = 140721471436864\n",
    "#print(a is b) - ids are same result will be true\n",
    "\n",
    "print(a is not b)      #True or False?\n",
    "# id of a & b is same result is true so a is not b operation is not true so result will be false \n",
    "\n",
    "a = 1000\n",
    "b = 1000\n",
    "print(a is b)          #True or False?\n",
    "#print(id(a))  = 2412877514096\n",
    "#print(id(b))  = 2412877514768\n",
    "# print(a is b) - ids are different result will be false\n",
    "\n",
    "print(a is not b)      #True or False?\n",
    "#id of a & b is different result is false so a is not b operation is not false so result will be true\n"
   ]
  },
  {
   "cell_type": "code",
   "execution_count": 2,
   "metadata": {
    "colab": {},
    "colab_type": "code",
    "id": "Un2To3XN1_Il"
   },
   "outputs": [
    {
     "name": "stdout",
     "output_type": "stream",
     "text": [
      "20\n"
     ]
    }
   ],
   "source": [
    "#What is the output of expression inside print statement. Cross check before running the program.\n",
    "print(10+(10*32)//2**5&20+(~(-10))<<2)\n"
   ]
  },
  {
   "cell_type": "code",
   "execution_count": 32,
   "metadata": {
    "colab": {},
    "colab_type": "code",
    "id": "kGRb5RMd1_1I"
   },
   "outputs": [
    {
     "name": "stdout",
     "output_type": "stream",
     "text": [
      "True\n",
      "True\n",
      "True\n",
      "True\n",
      "True\n",
      "True\n"
     ]
    }
   ],
   "source": [
    "#Membership operation\n",
    "#in, not in are two membership operators and it returns boolean value\n",
    "\n",
    "print('2' in 'Python2.7.8')                        #True  -  2.7 is there in 'Python2.7.8')\n",
    "print(10 in [10,10.20,10+20j,'Python'])            #True  -  10 is [10,10.20,10+20j,'Python']\n",
    "print(10 in (10,10.20,10+20j,'Python'))            #True  -  10 is [10,10.20,10+20j,'Python']\n",
    "print(2 in {1,2,3})                                #True  -   2 is there in {1,2,3}\n",
    "print(3 in {1:100, 2:200, 3:300})                  #True  -   3 is there in {1:100, 2:200, 3:300}\n",
    "print(10 in range(20))                             #True  -   10 is there in 10 in range(20)"
   ]
  },
  {
   "cell_type": "code",
   "execution_count": 16,
   "metadata": {
    "colab": {},
    "colab_type": "code",
    "id": "Es7iSvL92B9W"
   },
   "outputs": [
    {
     "name": "stdout",
     "output_type": "stream",
     "text": [
      "0b10011010010100\n",
      "0o23224\n",
      "0x2694\n"
     ]
    }
   ],
   "source": [
    "#An integer can be represented in binary, octal or hexadecimal form.\n",
    "#Declare one binary, one octal and one hexadecimal value and store them in three different variables.\n",
    "#Convert 9876 to its binary, octal and hexadecimal equivalent and print their corresponding value.\n",
    "#a = 25\n",
    "#print (bin(a)) 0b11001   \n",
    "#print (oct(a)) 0o31\n",
    "#print (hex(a)) 0x19\n",
    "\n",
    "a = 0b11001\n",
    "b = 0o31\n",
    "c = 0x19\n",
    "\n",
    "print (bin(9876))   \n",
    "print (oct(9876))    \n",
    "print (hex(9876))    "
   ]
  },
  {
   "cell_type": "code",
   "execution_count": 12,
   "metadata": {
    "colab": {},
    "colab_type": "code",
    "id": "Hm0r03lH2E0i"
   },
   "outputs": [
    {
     "name": "stdout",
     "output_type": "stream",
     "text": [
      "80\n",
      "3870\n",
      "64222\n",
      "0b1010000\n",
      "0o7436\n",
      "0xfade\n",
      "0b1010000\n",
      "0b1111101011011110\n",
      "0o175336\n",
      "0o7436\n",
      "0x50\n",
      "0xfade\n"
     ]
    }
   ],
   "source": [
    "#What will be the outut of following:-\n",
    "a = 0b1010000\n",
    "print(a)\n",
    "\n",
    "b = 0o7436\n",
    "print(b)\n",
    "\n",
    "c = 0xfade\n",
    "print(c)\n",
    "\n",
    "print(bin(80))\n",
    "\n",
    "print(oct(3870))\n",
    "\n",
    "print(hex(64222))\n",
    "\n",
    "print(bin(0b1010000))\n",
    "\n",
    "print(bin(0xfade))\n",
    "\n",
    "print(oct(0xfade))\n",
    "\n",
    "print(oct(0o7436))\n",
    "\n",
    "print(hex(0b1010000))\n",
    "\n",
    "print(hex(0xfade))"
   ]
  },
  {
   "cell_type": "code",
   "execution_count": null,
   "metadata": {},
   "outputs": [],
   "source": []
  }
 ],
 "metadata": {
  "colab": {
   "name": "int_assignment.ipynb",
   "provenance": []
  },
  "kernelspec": {
   "display_name": "Python 3",
   "language": "python",
   "name": "python3"
  },
  "language_info": {
   "codemirror_mode": {
    "name": "ipython",
    "version": 3
   },
   "file_extension": ".py",
   "mimetype": "text/x-python",
   "name": "python",
   "nbconvert_exporter": "python",
   "pygments_lexer": "ipython3",
   "version": "3.8.3"
  }
 },
 "nbformat": 4,
 "nbformat_minor": 1
}
